{
 "cells": [
  {
   "cell_type": "markdown",
   "id": "cbfc432b",
   "metadata": {},
   "source": [
    "# Day 5"
   ]
  },
  {
   "cell_type": "markdown",
   "id": "336daf7c",
   "metadata": {},
   "source": [
    "# Concept of Loops "
   ]
  },
  {
   "cell_type": "markdown",
   "id": "b6dbf9fb",
   "metadata": {},
   "source": [
    "while loop"
   ]
  },
  {
   "cell_type": "markdown",
   "id": "c8d7b405",
   "metadata": {},
   "source": [
    "programto display numbers from 1 to 5"
   ]
  },
  {
   "cell_type": "code",
   "execution_count": 1,
   "id": "ce01dc95",
   "metadata": {},
   "outputs": [
    {
     "name": "stdout",
     "output_type": "stream",
     "text": [
      "1\n",
      "2\n",
      "3\n",
      "4\n",
      "5\n"
     ]
    }
   ],
   "source": [
    "i = 1\n",
    "n = 5\n",
    "while i<=n:\n",
    "    print(i)\n",
    "    i = i+1"
   ]
  },
  {
   "cell_type": "markdown",
   "id": "15b609b3",
   "metadata": {},
   "source": [
    "enter the value from a user and make a multiplication table till 10"
   ]
  },
  {
   "cell_type": "code",
   "execution_count": 1,
   "id": "2b25dacd",
   "metadata": {},
   "outputs": [
    {
     "name": "stdout",
     "output_type": "stream",
     "text": [
      "enter the value9\n",
      "9\n",
      "18\n",
      "27\n",
      "36\n",
      "45\n",
      "54\n",
      "63\n",
      "72\n",
      "81\n",
      "90\n",
      "this is the multiplication table\n"
     ]
    }
   ],
   "source": [
    "x  = int(input(\"enter the value\"))\n",
    "i = 1\n",
    "while i<=10:\n",
    "    print(x*i)\n",
    "    i = i+1\n",
    "print(\"this is the multiplication table\")"
   ]
  },
  {
   "cell_type": "code",
   "execution_count": 2,
   "id": "b8ce08da",
   "metadata": {},
   "outputs": [
    {
     "name": "stdout",
     "output_type": "stream",
     "text": [
      "Enter the Value5\n",
      "5\n",
      "10\n",
      "15\n",
      "20\n",
      "25\n",
      "30\n",
      "35\n",
      "40\n",
      "45\n",
      "50\n",
      "this is the multiplication table\n"
     ]
    }
   ],
   "source": [
    "x = int(input(\"Enter the Value\"))\n",
    "i = 1\n",
    "while i<=10:\n",
    "    print(x*i)\n",
    "    i = i+1\n",
    "print(\"this is the multiplication table\")"
   ]
  },
  {
   "cell_type": "markdown",
   "id": "5f728572",
   "metadata": {},
   "source": [
    "# infinite loop"
   ]
  },
  {
   "cell_type": "code",
   "execution_count": 4,
   "id": "7b5569c9",
   "metadata": {},
   "outputs": [
    {
     "name": "stdout",
     "output_type": "stream",
     "text": [
      "Hello Students\n",
      "Hello Students\n",
      "Hello Students\n",
      "Hello Students\n",
      "Hello Students\n",
      "Hello Students\n",
      "Hello Students\n",
      "Hello Students\n",
      "Hello Students\n",
      "Hello Students\n",
      "Hello Students\n",
      "Hello Students\n",
      "Hello Students\n",
      "Hello Students\n",
      "Hello Students\n",
      "Hello Students\n",
      "Hello Students\n",
      "Hello Students\n",
      "Hello Students\n",
      "Hello Students\n",
      "Hello Students\n",
      "Hello Students\n",
      "Hello Students\n",
      "Hello Students\n",
      "Hello Students\n"
     ]
    }
   ],
   "source": [
    "count = 0\n",
    "while(count<25):\n",
    "    count = count + 1\n",
    "    print(\"Hello Students\")"
   ]
  },
  {
   "cell_type": "markdown",
   "id": "82a40ef0",
   "metadata": {},
   "source": [
    "# using else statement in the while loop"
   ]
  },
  {
   "cell_type": "code",
   "execution_count": 3,
   "id": "156a278f",
   "metadata": {},
   "outputs": [
    {
     "name": "stdout",
     "output_type": "stream",
     "text": [
      "Hello Students\n",
      "Hello Students\n",
      "Hello Students\n",
      "Hello Students\n",
      "Hello Students\n",
      "Hello Students\n",
      "Hello Students\n",
      "Hello Students\n",
      "Hello Students\n",
      "Hello Students\n",
      "Hello Students\n",
      "Hello Students\n",
      "Hello Students\n",
      "Hello Students\n",
      "Hello Students\n",
      "Hello Students\n",
      "Hello Students\n",
      "Hello Students\n",
      "Hello Students\n",
      "Hello Students\n",
      "Hello Students\n",
      "Hello Students\n",
      "Hello Students\n",
      "Hello Students\n",
      "Hello Students\n",
      "this is the else block\n"
     ]
    }
   ],
   "source": [
    "count = 0\n",
    "while(count<25):\n",
    "    count = count + 1\n",
    "    print(\"Hello Students\")\n",
    "else:\n",
    "    print(\"this is the else block\")"
   ]
  },
  {
   "cell_type": "code",
   "execution_count": null,
   "id": "14306b35",
   "metadata": {},
   "outputs": [],
   "source": [
    "age = 32\n",
    "while age>18:\n",
    "    print(\"you can vote\")"
   ]
  },
  {
   "cell_type": "markdown",
   "id": "fc708515",
   "metadata": {},
   "source": [
    "# For Loop"
   ]
  },
  {
   "cell_type": "code",
   "execution_count": 7,
   "id": "ebd1947b",
   "metadata": {},
   "outputs": [
    {
     "name": "stdout",
     "output_type": "stream",
     "text": [
      "apple\n",
      "Banana\n",
      "Cherry\n"
     ]
    }
   ],
   "source": [
    "fruits = [\"apple\",\"Banana\",\"Cherry\"]\n",
    "for x in fruits:\n",
    "    print(x)"
   ]
  },
  {
   "cell_type": "markdown",
   "id": "cb050d3d",
   "metadata": {},
   "source": [
    "# looping through a string"
   ]
  },
  {
   "cell_type": "code",
   "execution_count": 8,
   "id": "3bd1c467",
   "metadata": {},
   "outputs": [
    {
     "name": "stdout",
     "output_type": "stream",
     "text": [
      "b\n",
      "a\n",
      "n\n",
      "a\n",
      "n\n",
      "a\n"
     ]
    }
   ],
   "source": [
    "for x in \"banana\":\n",
    "    print(x)"
   ]
  },
  {
   "cell_type": "code",
   "execution_count": 9,
   "id": "ed9485c1",
   "metadata": {},
   "outputs": [
    {
     "name": "stdout",
     "output_type": "stream",
     "text": [
      "0\n",
      "1\n",
      "2\n",
      "3\n",
      "4\n",
      "5\n",
      "6\n",
      "7\n",
      "8\n",
      "9\n",
      "10\n",
      "11\n",
      "12\n",
      "13\n",
      "14\n",
      "15\n",
      "16\n",
      "17\n",
      "18\n",
      "19\n",
      "20\n",
      "21\n",
      "22\n",
      "23\n",
      "24\n"
     ]
    }
   ],
   "source": [
    "for x in range(25):\n",
    "    print(x)"
   ]
  },
  {
   "cell_type": "code",
   "execution_count": 10,
   "id": "b1064cd4",
   "metadata": {},
   "outputs": [
    {
     "name": "stdout",
     "output_type": "stream",
     "text": [
      "3\n",
      "4\n",
      "5\n",
      "6\n",
      "7\n",
      "8\n",
      "9\n",
      "10\n",
      "11\n",
      "12\n",
      "13\n",
      "14\n",
      "15\n",
      "16\n",
      "17\n",
      "18\n",
      "19\n",
      "20\n",
      "21\n",
      "22\n",
      "23\n",
      "24\n"
     ]
    }
   ],
   "source": [
    "for x in range(3,25):\n",
    "    print(x)"
   ]
  },
  {
   "cell_type": "markdown",
   "id": "bcd61ce1",
   "metadata": {},
   "source": []
  },
  {
   "cell_type": "code",
   "execution_count": null,
   "id": "60932d99",
   "metadata": {},
   "outputs": [],
   "source": []
  }
 ],
 "metadata": {
  "kernelspec": {
   "display_name": "Python 3 (ipykernel)",
   "language": "python",
   "name": "python3"
  },
  "language_info": {
   "codemirror_mode": {
    "name": "ipython",
    "version": 3
   },
   "file_extension": ".py",
   "mimetype": "text/x-python",
   "name": "python",
   "nbconvert_exporter": "python",
   "pygments_lexer": "ipython3",
   "version": "3.11.4"
  }
 },
 "nbformat": 4,
 "nbformat_minor": 5
}
